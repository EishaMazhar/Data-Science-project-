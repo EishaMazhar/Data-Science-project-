{
 "cells": [
  {
   "cell_type": "code",
   "execution_count": 1,
   "id": "f5f68138",
   "metadata": {},
   "outputs": [
    {
     "name": "stdout",
     "output_type": "stream",
     "text": [
      "Model: \"sequential\"\n",
      "_________________________________________________________________\n",
      "Layer (type)                 Output Shape              Param #   \n",
      "=================================================================\n",
      "keras_layer (KerasLayer)     (None, 20)                400020    \n",
      "_________________________________________________________________\n",
      "dense (Dense)                (None, 128)               2688      \n",
      "_________________________________________________________________\n",
      "dropout (Dropout)            (None, 128)               0         \n",
      "_________________________________________________________________\n",
      "dense_1 (Dense)              (None, 64)                8256      \n",
      "_________________________________________________________________\n",
      "dropout_1 (Dropout)          (None, 64)                0         \n",
      "_________________________________________________________________\n",
      "dense_2 (Dense)              (None, 1)                 65        \n",
      "=================================================================\n",
      "Total params: 411,029\n",
      "Trainable params: 411,029\n",
      "Non-trainable params: 0\n",
      "_________________________________________________________________\n"
     ]
    }
   ],
   "source": [
    "from tensorflow import keras\n",
    "model = keras.models.load_model('Models/NN_model')\n",
    "\n",
    "model.summary()"
   ]
  },
  {
   "cell_type": "markdown",
   "id": "4bc4794c",
   "metadata": {},
   "source": [
    "$74K - $139K \n",
    "\n",
    "['''Intro (Use Font Arial 12):\n",
    "As a Data Scientist Architect you will be applying new and innovative methods to address some of our most important intelligence problems\n",
    "What You'll Be Doing:\n",
    "Knowledge and experience in designing and implementing AI apps and agents that use the Microsoft Azure Cognitive Services, Azure Bot Service, Azure Cognitive Search, and data storage options\n",
    "Analyzing requirements for AI solutions\n",
    "Experience with NoSQL databases\n",
    "Experience with applying Data Science techniques to overhead imagery (computer vision, object detection)\n",
    "Ability to work autonomously and collaboratively as part of a team to both teach and learn every day\n",
    "Location and Travel Details:\n",
    "Profile of Success:\n",
    "Desirable Skills:\n",
    "About AIS:\n",
    "''']"
   ]
  },
  {
   "cell_type": "code",
   "execution_count": 22,
   "id": "3c3b20bc",
   "metadata": {},
   "outputs": [],
   "source": [
    "y = model.predict(['''Intro (Use Font Arial 12): As a Data Scientist Architect you will be applying new and innovative methods to address some of our most important intelligence problems What You'll Be Doing: Knowledge and experience in designing and implementing AI apps and agents that use the Microsoft Azure Cognitive Services, Azure Bot Service, Azure Cognitive Search, and data storage options Analyzing requirements for AI solutions Experience with NoSQL databases Experience with applying Data Science techniques to overhead imagery (computer vision, object detection) Ability to work autonomously and collaboratively as part of a team to both teach and learn every day Location and Travel Details: Profile of Success: Desirable Skills: About AIS: '''])"
   ]
  },
  {
   "cell_type": "code",
   "execution_count": 30,
   "id": "fce5c99a",
   "metadata": {},
   "outputs": [
    {
     "name": "stdout",
     "output_type": "stream",
     "text": [
      "predicted: 124.784546  ---> actual: 74𝐾− 139K\n"
     ]
    }
   ],
   "source": [
    "print('predicted:', y[0][0], ' ---> actual: 74𝐾− 139K', )"
   ]
  },
  {
   "cell_type": "code",
   "execution_count": null,
   "id": "cf7b04df",
   "metadata": {},
   "outputs": [],
   "source": []
  }
 ],
 "metadata": {
  "kernelspec": {
   "display_name": "Python 3",
   "language": "python",
   "name": "python3"
  },
  "language_info": {
   "codemirror_mode": {
    "name": "ipython",
    "version": 3
   },
   "file_extension": ".py",
   "mimetype": "text/x-python",
   "name": "python",
   "nbconvert_exporter": "python",
   "pygments_lexer": "ipython3",
   "version": "3.8.8"
  }
 },
 "nbformat": 4,
 "nbformat_minor": 5
}
