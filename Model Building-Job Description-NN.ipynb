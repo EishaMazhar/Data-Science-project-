{
 "cells": [
  {
   "cell_type": "markdown",
   "id": "967cb37c",
   "metadata": {
    "colab_type": "text",
    "id": "view-in-github"
   },
   "source": [
    "<a href=\"https://colab.research.google.com/github/EishaMazhar/Glassdoor-Salary-Prediction/blob/main/Model%20Building-Job%20Description-NN.ipynb\" target=\"_parent\"><img src=\"https://colab.research.google.com/assets/colab-badge.svg\" alt=\"Open In Colab\"/></a>"
   ]
  },
  {
   "cell_type": "code",
   "execution_count": 1,
   "id": "b7e8cc4b",
   "metadata": {
    "id": "b7e8cc4b"
   },
   "outputs": [],
   "source": [
    "import pandas as pd\n",
    "import numpy as np\n",
    "import matplotlib.pyplot as plt \n",
    "# train test split \n",
    "from sklearn.metrics import mean_squared_error\n",
    "from sklearn.model_selection import train_test_split"
   ]
  },
  {
   "cell_type": "code",
   "execution_count": 2,
   "id": "4df21eeb",
   "metadata": {
    "colab": {
     "base_uri": "https://localhost:8080/",
     "height": 833
    },
    "id": "4df21eeb",
    "outputId": "5065fee3-c7c7-47b3-f99e-a6e7aa759c93"
   },
   "outputs": [
    {
     "data": {
      "text/html": [
       "<div>\n",
       "<style scoped>\n",
       "    .dataframe tbody tr th:only-of-type {\n",
       "        vertical-align: middle;\n",
       "    }\n",
       "\n",
       "    .dataframe tbody tr th {\n",
       "        vertical-align: top;\n",
       "    }\n",
       "\n",
       "    .dataframe thead th {\n",
       "        text-align: right;\n",
       "    }\n",
       "</style>\n",
       "<table border=\"1\" class=\"dataframe\">\n",
       "  <thead>\n",
       "    <tr style=\"text-align: right;\">\n",
       "      <th></th>\n",
       "      <th>Unnamed: 0</th>\n",
       "      <th>Job Title</th>\n",
       "      <th>Salary Estimate</th>\n",
       "      <th>Job Description</th>\n",
       "      <th>Rating</th>\n",
       "      <th>Company Name</th>\n",
       "      <th>Location</th>\n",
       "      <th>Size</th>\n",
       "      <th>Founded</th>\n",
       "      <th>Type of ownership</th>\n",
       "      <th>Industry</th>\n",
       "      <th>Sector</th>\n",
       "      <th>Revenue</th>\n",
       "      <th>hourly</th>\n",
       "      <th>employer_provided</th>\n",
       "      <th>min_salary</th>\n",
       "      <th>max_salary</th>\n",
       "      <th>avg_salary</th>\n",
       "      <th>job_state</th>\n",
       "      <th>age</th>\n",
       "      <th>job_title_tag</th>\n",
       "      <th>seniority</th>\n",
       "      <th>desc_len</th>\n",
       "      <th>python</th>\n",
       "      <th>R</th>\n",
       "      <th>spark</th>\n",
       "      <th>aws</th>\n",
       "      <th>excel</th>\n",
       "      <th>sql</th>\n",
       "      <th>django</th>\n",
       "      <th>hadoop</th>\n",
       "      <th>java</th>\n",
       "      <th>db</th>\n",
       "      <th>tableau</th>\n",
       "      <th>azure</th>\n",
       "    </tr>\n",
       "  </thead>\n",
       "  <tbody>\n",
       "    <tr>\n",
       "      <th>0</th>\n",
       "      <td>0</td>\n",
       "      <td>Data Scientist</td>\n",
       "      <td>$74K - $139K</td>\n",
       "      <td>Intro (Use Font Arial 12):\\r\\nAs a Data Scient...</td>\n",
       "      <td>4.4</td>\n",
       "      <td>Applied Information Sciences</td>\n",
       "      <td>Chevy Chase, MD</td>\n",
       "      <td>501 to 1000 Employees</td>\n",
       "      <td>1982</td>\n",
       "      <td>Unknown</td>\n",
       "      <td>IT Services</td>\n",
       "      <td>Information Technology</td>\n",
       "      <td>$50 to $100 million (USD)</td>\n",
       "      <td>0</td>\n",
       "      <td>0</td>\n",
       "      <td>74</td>\n",
       "      <td>139</td>\n",
       "      <td>106.5</td>\n",
       "      <td>MD</td>\n",
       "      <td>39</td>\n",
       "      <td>data scientist</td>\n",
       "      <td>mid/other</td>\n",
       "      <td>755</td>\n",
       "      <td>0</td>\n",
       "      <td>0</td>\n",
       "      <td>0</td>\n",
       "      <td>0</td>\n",
       "      <td>0</td>\n",
       "      <td>1</td>\n",
       "      <td>0</td>\n",
       "      <td>0</td>\n",
       "      <td>0</td>\n",
       "      <td>1</td>\n",
       "      <td>0</td>\n",
       "      <td>1</td>\n",
       "    </tr>\n",
       "    <tr>\n",
       "      <th>1</th>\n",
       "      <td>1</td>\n",
       "      <td>Web Developer</td>\n",
       "      <td>$41K - $83K</td>\n",
       "      <td>We are the fastest growing employer of emergin...</td>\n",
       "      <td>4.0</td>\n",
       "      <td>Revature</td>\n",
       "      <td>Tampa, FL</td>\n",
       "      <td>1001 to 5000 Employees</td>\n",
       "      <td>2003</td>\n",
       "      <td>Unknown</td>\n",
       "      <td>IT Services</td>\n",
       "      <td>Information Technology</td>\n",
       "      <td>$100 to $500 million (USD)</td>\n",
       "      <td>0</td>\n",
       "      <td>0</td>\n",
       "      <td>41</td>\n",
       "      <td>83</td>\n",
       "      <td>62.0</td>\n",
       "      <td>FL</td>\n",
       "      <td>18</td>\n",
       "      <td>other</td>\n",
       "      <td>mid/other</td>\n",
       "      <td>625</td>\n",
       "      <td>0</td>\n",
       "      <td>0</td>\n",
       "      <td>0</td>\n",
       "      <td>0</td>\n",
       "      <td>0</td>\n",
       "      <td>0</td>\n",
       "      <td>0</td>\n",
       "      <td>0</td>\n",
       "      <td>0</td>\n",
       "      <td>0</td>\n",
       "      <td>0</td>\n",
       "      <td>0</td>\n",
       "    </tr>\n",
       "    <tr>\n",
       "      <th>2</th>\n",
       "      <td>2</td>\n",
       "      <td>Data Analyst</td>\n",
       "      <td>$43K - $88K</td>\n",
       "      <td>HR Data Analyst - Direct Hire - Buffalo, NY\\r\\...</td>\n",
       "      <td>4.1</td>\n",
       "      <td>Systems Personnel</td>\n",
       "      <td>Niagara Falls, NY</td>\n",
       "      <td>1 to 50 Employees</td>\n",
       "      <td>1996</td>\n",
       "      <td>Unknown</td>\n",
       "      <td>Staffing &amp; Outsourcing</td>\n",
       "      <td>Business Services</td>\n",
       "      <td>$5 to $10 million (USD)</td>\n",
       "      <td>0</td>\n",
       "      <td>0</td>\n",
       "      <td>43</td>\n",
       "      <td>88</td>\n",
       "      <td>65.5</td>\n",
       "      <td>NY</td>\n",
       "      <td>25</td>\n",
       "      <td>analyst</td>\n",
       "      <td>mid/other</td>\n",
       "      <td>1366</td>\n",
       "      <td>0</td>\n",
       "      <td>0</td>\n",
       "      <td>0</td>\n",
       "      <td>0</td>\n",
       "      <td>0</td>\n",
       "      <td>1</td>\n",
       "      <td>0</td>\n",
       "      <td>0</td>\n",
       "      <td>0</td>\n",
       "      <td>0</td>\n",
       "      <td>1</td>\n",
       "      <td>0</td>\n",
       "    </tr>\n",
       "    <tr>\n",
       "      <th>3</th>\n",
       "      <td>3</td>\n",
       "      <td>Database Administrator</td>\n",
       "      <td>$68K - $136K</td>\n",
       "      <td>Secure our Nation, Ignite your Future\\r\\nBecom...</td>\n",
       "      <td>4.2</td>\n",
       "      <td>ManTech International Corporation</td>\n",
       "      <td>Fort Meade, MD</td>\n",
       "      <td>5001 to 10000 Employees</td>\n",
       "      <td>1968</td>\n",
       "      <td>Unknown</td>\n",
       "      <td>Research &amp; Development</td>\n",
       "      <td>Business Services</td>\n",
       "      <td>$1 to $2 billion (USD)</td>\n",
       "      <td>0</td>\n",
       "      <td>0</td>\n",
       "      <td>68</td>\n",
       "      <td>136</td>\n",
       "      <td>102.0</td>\n",
       "      <td>MD</td>\n",
       "      <td>53</td>\n",
       "      <td>other</td>\n",
       "      <td>mid/other</td>\n",
       "      <td>765</td>\n",
       "      <td>0</td>\n",
       "      <td>0</td>\n",
       "      <td>0</td>\n",
       "      <td>0</td>\n",
       "      <td>0</td>\n",
       "      <td>0</td>\n",
       "      <td>0</td>\n",
       "      <td>0</td>\n",
       "      <td>0</td>\n",
       "      <td>1</td>\n",
       "      <td>0</td>\n",
       "      <td>0</td>\n",
       "    </tr>\n",
       "    <tr>\n",
       "      <th>4</th>\n",
       "      <td>4</td>\n",
       "      <td>iOS Developer</td>\n",
       "      <td>$72K - $104K</td>\n",
       "      <td>Are you an iOS developer who loves to create m...</td>\n",
       "      <td>4.1</td>\n",
       "      <td>Garmin</td>\n",
       "      <td>Olathe, KS</td>\n",
       "      <td>10000+ Employees</td>\n",
       "      <td>1989</td>\n",
       "      <td>Unknown</td>\n",
       "      <td>Consumer Products Manufacturing</td>\n",
       "      <td>Manufacturing</td>\n",
       "      <td>$2 to $5 billion (USD)</td>\n",
       "      <td>0</td>\n",
       "      <td>0</td>\n",
       "      <td>72</td>\n",
       "      <td>104</td>\n",
       "      <td>88.0</td>\n",
       "      <td>KS</td>\n",
       "      <td>32</td>\n",
       "      <td>other</td>\n",
       "      <td>mid/other</td>\n",
       "      <td>929</td>\n",
       "      <td>0</td>\n",
       "      <td>0</td>\n",
       "      <td>0</td>\n",
       "      <td>0</td>\n",
       "      <td>0</td>\n",
       "      <td>0</td>\n",
       "      <td>0</td>\n",
       "      <td>0</td>\n",
       "      <td>0</td>\n",
       "      <td>0</td>\n",
       "      <td>0</td>\n",
       "      <td>0</td>\n",
       "    </tr>\n",
       "    <tr>\n",
       "      <th>...</th>\n",
       "      <td>...</td>\n",
       "      <td>...</td>\n",
       "      <td>...</td>\n",
       "      <td>...</td>\n",
       "      <td>...</td>\n",
       "      <td>...</td>\n",
       "      <td>...</td>\n",
       "      <td>...</td>\n",
       "      <td>...</td>\n",
       "      <td>...</td>\n",
       "      <td>...</td>\n",
       "      <td>...</td>\n",
       "      <td>...</td>\n",
       "      <td>...</td>\n",
       "      <td>...</td>\n",
       "      <td>...</td>\n",
       "      <td>...</td>\n",
       "      <td>...</td>\n",
       "      <td>...</td>\n",
       "      <td>...</td>\n",
       "      <td>...</td>\n",
       "      <td>...</td>\n",
       "      <td>...</td>\n",
       "      <td>...</td>\n",
       "      <td>...</td>\n",
       "      <td>...</td>\n",
       "      <td>...</td>\n",
       "      <td>...</td>\n",
       "      <td>...</td>\n",
       "      <td>...</td>\n",
       "      <td>...</td>\n",
       "      <td>...</td>\n",
       "      <td>...</td>\n",
       "      <td>...</td>\n",
       "      <td>...</td>\n",
       "    </tr>\n",
       "    <tr>\n",
       "      <th>4912</th>\n",
       "      <td>4912</td>\n",
       "      <td>Front End Developer</td>\n",
       "      <td>$58K - $117K</td>\n",
       "      <td>US Citizenship is required\\r\\nFront end Develo...</td>\n",
       "      <td>-1.0</td>\n",
       "      <td>EDR Technology</td>\n",
       "      <td>Ashburn, VA</td>\n",
       "      <td>Unknown</td>\n",
       "      <td>-1</td>\n",
       "      <td>Unknown</td>\n",
       "      <td>-1</td>\n",
       "      <td>-1</td>\n",
       "      <td>Unknown / Non-Applicable</td>\n",
       "      <td>0</td>\n",
       "      <td>0</td>\n",
       "      <td>58</td>\n",
       "      <td>117</td>\n",
       "      <td>87.5</td>\n",
       "      <td>VA</td>\n",
       "      <td>-1</td>\n",
       "      <td>other</td>\n",
       "      <td>mid/other</td>\n",
       "      <td>1314</td>\n",
       "      <td>0</td>\n",
       "      <td>0</td>\n",
       "      <td>0</td>\n",
       "      <td>0</td>\n",
       "      <td>0</td>\n",
       "      <td>0</td>\n",
       "      <td>0</td>\n",
       "      <td>0</td>\n",
       "      <td>1</td>\n",
       "      <td>1</td>\n",
       "      <td>0</td>\n",
       "      <td>0</td>\n",
       "    </tr>\n",
       "    <tr>\n",
       "      <th>4913</th>\n",
       "      <td>4913</td>\n",
       "      <td>Sr Software Quality Engineer</td>\n",
       "      <td>$78K - $147K</td>\n",
       "      <td>PRA Health Sciences is seeking the best and br...</td>\n",
       "      <td>4.0</td>\n",
       "      <td>PRA Health Sciences</td>\n",
       "      <td>San Diego, CA</td>\n",
       "      <td>10000+ Employees</td>\n",
       "      <td>1976</td>\n",
       "      <td>Unknown</td>\n",
       "      <td>Biotech &amp; Pharmaceuticals</td>\n",
       "      <td>Biotech &amp; Pharmaceuticals</td>\n",
       "      <td>$2 to $5 billion (USD)</td>\n",
       "      <td>0</td>\n",
       "      <td>0</td>\n",
       "      <td>78</td>\n",
       "      <td>147</td>\n",
       "      <td>112.5</td>\n",
       "      <td>CA</td>\n",
       "      <td>45</td>\n",
       "      <td>software developer/engineer</td>\n",
       "      <td>senior</td>\n",
       "      <td>980</td>\n",
       "      <td>0</td>\n",
       "      <td>0</td>\n",
       "      <td>0</td>\n",
       "      <td>0</td>\n",
       "      <td>0</td>\n",
       "      <td>0</td>\n",
       "      <td>0</td>\n",
       "      <td>0</td>\n",
       "      <td>0</td>\n",
       "      <td>0</td>\n",
       "      <td>0</td>\n",
       "      <td>0</td>\n",
       "    </tr>\n",
       "    <tr>\n",
       "      <th>4914</th>\n",
       "      <td>4914</td>\n",
       "      <td>Lead Mobile Engineer</td>\n",
       "      <td>$79K - $162K</td>\n",
       "      <td>About Us\\r\\nWe are a fintech startup with a mi...</td>\n",
       "      <td>-1.0</td>\n",
       "      <td>Treecard</td>\n",
       "      <td>Austin, TX</td>\n",
       "      <td>Unknown</td>\n",
       "      <td>-1</td>\n",
       "      <td>Unknown</td>\n",
       "      <td>-1</td>\n",
       "      <td>-1</td>\n",
       "      <td>Unknown / Non-Applicable</td>\n",
       "      <td>0</td>\n",
       "      <td>0</td>\n",
       "      <td>79</td>\n",
       "      <td>162</td>\n",
       "      <td>120.5</td>\n",
       "      <td>TX</td>\n",
       "      <td>-1</td>\n",
       "      <td>other</td>\n",
       "      <td>senior</td>\n",
       "      <td>812</td>\n",
       "      <td>0</td>\n",
       "      <td>0</td>\n",
       "      <td>0</td>\n",
       "      <td>0</td>\n",
       "      <td>0</td>\n",
       "      <td>0</td>\n",
       "      <td>0</td>\n",
       "      <td>0</td>\n",
       "      <td>0</td>\n",
       "      <td>0</td>\n",
       "      <td>0</td>\n",
       "      <td>0</td>\n",
       "    </tr>\n",
       "    <tr>\n",
       "      <th>4915</th>\n",
       "      <td>4915</td>\n",
       "      <td>Cloud Infrastructure Engineer (SRE/Java)</td>\n",
       "      <td>$61K - $132K</td>\n",
       "      <td>Every day, Global Payments makes it possible f...</td>\n",
       "      <td>3.5</td>\n",
       "      <td>Global Payments</td>\n",
       "      <td>Columbus, GA</td>\n",
       "      <td>10000+ Employees</td>\n",
       "      <td>1967</td>\n",
       "      <td>Unknown</td>\n",
       "      <td>Financial Transaction Processing</td>\n",
       "      <td>Finance</td>\n",
       "      <td>$5 to $10 billion (USD)</td>\n",
       "      <td>0</td>\n",
       "      <td>0</td>\n",
       "      <td>61</td>\n",
       "      <td>132</td>\n",
       "      <td>96.5</td>\n",
       "      <td>GA</td>\n",
       "      <td>54</td>\n",
       "      <td>other</td>\n",
       "      <td>senior</td>\n",
       "      <td>641</td>\n",
       "      <td>0</td>\n",
       "      <td>0</td>\n",
       "      <td>0</td>\n",
       "      <td>0</td>\n",
       "      <td>0</td>\n",
       "      <td>0</td>\n",
       "      <td>0</td>\n",
       "      <td>0</td>\n",
       "      <td>0</td>\n",
       "      <td>0</td>\n",
       "      <td>0</td>\n",
       "      <td>0</td>\n",
       "    </tr>\n",
       "    <tr>\n",
       "      <th>4916</th>\n",
       "      <td>4916</td>\n",
       "      <td>Development Chapter Lead in Retail</td>\n",
       "      <td>$51K - $97K</td>\n",
       "      <td>Job Description\\r\\nOwn the build the products ...</td>\n",
       "      <td>3.5</td>\n",
       "      <td>Vanguard</td>\n",
       "      <td>Malvern, PA</td>\n",
       "      <td>10000+ Employees</td>\n",
       "      <td>1975</td>\n",
       "      <td>Unknown</td>\n",
       "      <td>Investment Banking &amp; Asset Management</td>\n",
       "      <td>Finance</td>\n",
       "      <td>Unknown / Non-Applicable</td>\n",
       "      <td>0</td>\n",
       "      <td>0</td>\n",
       "      <td>51</td>\n",
       "      <td>97</td>\n",
       "      <td>74.0</td>\n",
       "      <td>PA</td>\n",
       "      <td>46</td>\n",
       "      <td>other</td>\n",
       "      <td>senior</td>\n",
       "      <td>680</td>\n",
       "      <td>0</td>\n",
       "      <td>0</td>\n",
       "      <td>0</td>\n",
       "      <td>0</td>\n",
       "      <td>0</td>\n",
       "      <td>0</td>\n",
       "      <td>0</td>\n",
       "      <td>0</td>\n",
       "      <td>0</td>\n",
       "      <td>0</td>\n",
       "      <td>0</td>\n",
       "      <td>0</td>\n",
       "    </tr>\n",
       "  </tbody>\n",
       "</table>\n",
       "<p>4917 rows × 35 columns</p>\n",
       "</div>"
      ],
      "text/plain": [
       "      Unnamed: 0                                 Job Title  ... tableau azure\n",
       "0              0                            Data Scientist  ...       0     1\n",
       "1              1                             Web Developer  ...       0     0\n",
       "2              2                              Data Analyst  ...       1     0\n",
       "3              3                    Database Administrator  ...       0     0\n",
       "4              4                             iOS Developer  ...       0     0\n",
       "...          ...                                       ...  ...     ...   ...\n",
       "4912        4912                       Front End Developer  ...       0     0\n",
       "4913        4913              Sr Software Quality Engineer  ...       0     0\n",
       "4914        4914                      Lead Mobile Engineer  ...       0     0\n",
       "4915        4915  Cloud Infrastructure Engineer (SRE/Java)  ...       0     0\n",
       "4916        4916        Development Chapter Lead in Retail  ...       0     0\n",
       "\n",
       "[4917 rows x 35 columns]"
      ]
     },
     "execution_count": 2,
     "metadata": {
      "tags": []
     },
     "output_type": "execute_result"
    }
   ],
   "source": [
    "df = pd.read_csv(\"preprocessed_data.csv\")\n",
    "df"
   ]
  },
  {
   "cell_type": "code",
   "execution_count": 3,
   "id": "cf80a2c0",
   "metadata": {
    "colab": {
     "base_uri": "https://localhost:8080/"
    },
    "id": "cf80a2c0",
    "outputId": "c0a9b287-6edb-46ea-9364-ecb15ddb9b62"
   },
   "outputs": [
    {
     "data": {
      "text/plain": [
       "Index(['Unnamed: 0', 'Job Title', 'Salary Estimate', 'Job Description',\n",
       "       'Rating', 'Company Name', 'Location', 'Size', 'Founded',\n",
       "       'Type of ownership', 'Industry', 'Sector', 'Revenue', 'hourly',\n",
       "       'employer_provided', 'min_salary', 'max_salary', 'avg_salary',\n",
       "       'job_state', 'age', 'job_title_tag', 'seniority', 'desc_len', 'python',\n",
       "       'R', 'spark', 'aws', 'excel', 'sql', 'django', 'hadoop', 'java', 'db',\n",
       "       'tableau', 'azure'],\n",
       "      dtype='object')"
      ]
     },
     "execution_count": 3,
     "metadata": {
      "tags": []
     },
     "output_type": "execute_result"
    }
   ],
   "source": [
    "df.columns"
   ]
  },
  {
   "cell_type": "code",
   "execution_count": 4,
   "id": "distinct-batch",
   "metadata": {
    "colab": {
     "base_uri": "https://localhost:8080/"
    },
    "id": "distinct-batch",
    "outputId": "7e8e5afc-820e-4c9b-a432-43fb9e8940f3"
   },
   "outputs": [
    {
     "data": {
      "text/plain": [
       "array(['Data Scientist', 'Web Developer', 'Data Analyst', ...,\n",
       "       'Lead Mobile Engineer', 'Cloud Infrastructure Engineer (SRE/Java)',\n",
       "       'Development Chapter Lead in Retail'], dtype=object)"
      ]
     },
     "execution_count": 4,
     "metadata": {
      "tags": []
     },
     "output_type": "execute_result"
    }
   ],
   "source": [
    "df['Job Title'].unique()"
   ]
  },
  {
   "cell_type": "code",
   "execution_count": 5,
   "id": "23a685a1",
   "metadata": {
    "id": "23a685a1"
   },
   "outputs": [],
   "source": [
    "df_model = df[['Job Title', 'Rating','Company Name', 'Company Name', 'Size',\n",
    "               'Type of ownership', 'Industry', 'Sector', 'Revenue', 'hourly', 'employer_provided',\n",
    "               'avg_salary', 'job_state', 'age',\n",
    "               'job_title_tag', 'seniority', 'desc_len', 'python', 'R', 'spark', 'aws',\n",
    "               'excel', 'sql', 'django', 'hadoop', 'java', 'db', 'tableau', 'azure']]\n",
    "               "
   ]
  },
  {
   "cell_type": "code",
   "execution_count": 6,
   "id": "fea9af22",
   "metadata": {
    "id": "fea9af22"
   },
   "outputs": [],
   "source": [
    "dummy_df = pd.get_dummies(df_model)\n",
    "\n",
    "X = dummy_df.drop('avg_salary', axis =1)\n",
    "y = dummy_df.avg_salary.values\n",
    "\n",
    "X_train, X_test, y_train, y_test = train_test_split(X, y, test_size=0.3, random_state=24)"
   ]
  },
  {
   "cell_type": "code",
   "execution_count": 7,
   "id": "3eff3d41",
   "metadata": {
    "colab": {
     "base_uri": "https://localhost:8080/"
    },
    "id": "3eff3d41",
    "outputId": "f9a63e80-f18f-4e7b-f295-a383a84a363f"
   },
   "outputs": [
    {
     "data": {
      "text/plain": [
       "1031.6672767947937"
      ]
     },
     "execution_count": 7,
     "metadata": {
      "tags": []
     },
     "output_type": "execute_result"
    }
   ],
   "source": [
    "df['Job Description'].map(lambda x: len(x)).mean()"
   ]
  },
  {
   "cell_type": "code",
   "execution_count": 8,
   "id": "completed-taxation",
   "metadata": {
    "colab": {
     "base_uri": "https://localhost:8080/"
    },
    "id": "completed-taxation",
    "outputId": "8c0d278c-18b7-441a-ddda-761bf7070b7a"
   },
   "outputs": [
    {
     "name": "stdout",
     "output_type": "stream",
     "text": [
      "Requirement already satisfied: nltk in /usr/local/lib/python3.7/dist-packages (3.2.5)\n",
      "Requirement already satisfied: six in /usr/local/lib/python3.7/dist-packages (from nltk) (1.15.0)\n"
     ]
    }
   ],
   "source": [
    "! pip install nltk"
   ]
  },
  {
   "cell_type": "code",
   "execution_count": 9,
   "id": "distinct-generation",
   "metadata": {
    "id": "distinct-generation"
   },
   "outputs": [],
   "source": [
    "from nltk.stem.porter import PorterStemmer\n",
    "from nltk.tokenize import RegexpTokenizer\n",
    "from sklearn.feature_extraction.text import CountVectorizer, TfidfVectorizer"
   ]
  },
  {
   "cell_type": "code",
   "execution_count": 10,
   "id": "solved-mayor",
   "metadata": {
    "id": "solved-mayor"
   },
   "outputs": [],
   "source": [
    "stemmer = PorterStemmer()\n",
    "tokenizer = RegexpTokenizer(\"[a-z']+\")"
   ]
  },
  {
   "cell_type": "code",
   "execution_count": 11,
   "id": "legendary-nightlife",
   "metadata": {
    "id": "legendary-nightlife"
   },
   "outputs": [],
   "source": [
    "# preprocess text\n",
    "def get_tokens(description):\n",
    "    text_tokens = tokenizer.tokenize(description)\n",
    "    stemmed_tokens = [stemmer.stem(x) for x in text_tokens]\n",
    "    return stemmed_tokens"
   ]
  },
  {
   "cell_type": "code",
   "execution_count": 12,
   "id": "popular-citizen",
   "metadata": {
    "id": "popular-citizen"
   },
   "outputs": [],
   "source": [
    "vectorizer = TfidfVectorizer(stop_words='english', ngram_range=(1,1), tokenizer=get_tokens)"
   ]
  },
  {
   "cell_type": "code",
   "execution_count": 13,
   "id": "acoustic-assurance",
   "metadata": {
    "colab": {
     "base_uri": "https://localhost:8080/"
    },
    "id": "acoustic-assurance",
    "outputId": "121f8c35-c241-4b48-9795-30f9e301dad1"
   },
   "outputs": [
    {
     "name": "stderr",
     "output_type": "stream",
     "text": [
      "/usr/local/lib/python3.7/dist-packages/sklearn/feature_extraction/text.py:385: UserWarning: Your stop_words may be inconsistent with your preprocessing. Tokenizing the stop words generated tokens ['abov', 'afterward', 'alon', 'alreadi', 'alway', 'ani', 'anoth', 'anyon', 'anyth', 'anywher', 'becam', 'becaus', 'becom', 'befor', 'besid', 'cri', 'describ', 'dure', 'els', 'elsewher', 'empti', 'everi', 'everyon', 'everyth', 'everywher', 'fifti', 'formerli', 'forti', 'ha', 'henc', 'hereaft', 'herebi', 'hi', 'howev', 'hundr', 'inde', 'latterli', 'mani', 'meanwhil', 'moreov', 'mostli', 'nobodi', 'noon', 'noth', 'nowher', 'onc', 'onli', 'otherwis', 'ourselv', 'perhap', 'pleas', 'seriou', 'sever', 'sinc', 'sincer', 'sixti', 'someon', 'someth', 'sometim', 'somewher', 'themselv', 'thenc', 'thereaft', 'therebi', 'therefor', 'thi', 'thu', 'togeth', 'twelv', 'twenti', 'veri', 'wa', 'whatev', 'whenc', 'whenev', 'wherea', 'whereaft', 'wherebi', 'wherev', 'whi', 'yourselv'] not in stop_words.\n",
      "  'stop_words.' % sorted(inconsistent))\n"
     ]
    }
   ],
   "source": [
    "transformed_text = vectorizer.fit_transform(df['Job Description'])"
   ]
  },
  {
   "cell_type": "code",
   "execution_count": 14,
   "id": "electrical-frank",
   "metadata": {
    "colab": {
     "base_uri": "https://localhost:8080/"
    },
    "id": "electrical-frank",
    "outputId": "300805d5-21b9-4d2e-ffc3-a22c3cefa1aa"
   },
   "outputs": [
    {
     "data": {
      "text/plain": [
       "<4917x12791 sparse matrix of type '<class 'numpy.float64'>'\n",
       "\twith 348052 stored elements in Compressed Sparse Row format>"
      ]
     },
     "execution_count": 14,
     "metadata": {
      "tags": []
     },
     "output_type": "execute_result"
    }
   ],
   "source": [
    "transformed_text"
   ]
  },
  {
   "cell_type": "code",
   "execution_count": 15,
   "id": "quantitative-victorian",
   "metadata": {
    "id": "quantitative-victorian"
   },
   "outputs": [],
   "source": [
    "X_train, X_test, y_train, y_test = train_test_split(transformed_text, df['avg_salary'], test_size=0.3)"
   ]
  },
  {
   "cell_type": "markdown",
   "id": "fleet-grounds",
   "metadata": {
    "id": "fleet-grounds"
   },
   "source": []
  },
  {
   "cell_type": "code",
   "execution_count": 16,
   "id": "general-joint",
   "metadata": {
    "id": "general-joint"
   },
   "outputs": [],
   "source": [
    "from sklearn.naive_bayes import GaussianNB"
   ]
  },
  {
   "cell_type": "code",
   "execution_count": 17,
   "id": "bacterial-friendly",
   "metadata": {
    "id": "bacterial-friendly"
   },
   "outputs": [],
   "source": [
    "gnb_model = GaussianNB().fit(X_train.toarray(), y_train.astype('int'))"
   ]
  },
  {
   "cell_type": "code",
   "execution_count": 18,
   "id": "available-international",
   "metadata": {
    "id": "available-international"
   },
   "outputs": [],
   "source": [
    "y_pred = gnb_model.predict(X_test.toarray())"
   ]
  },
  {
   "cell_type": "code",
   "execution_count": 19,
   "id": "motivated-wrapping",
   "metadata": {
    "colab": {
     "base_uri": "https://localhost:8080/"
    },
    "id": "motivated-wrapping",
    "outputId": "be3adb79-fb15-4fee-d3cf-04b47ef532ee"
   },
   "outputs": [
    {
     "data": {
      "text/plain": [
       "623.5960365853658"
      ]
     },
     "execution_count": 19,
     "metadata": {
      "tags": []
     },
     "output_type": "execute_result"
    }
   ],
   "source": [
    "mean_squared_error(y_test, y_pred)"
   ]
  },
  {
   "cell_type": "code",
   "execution_count": 20,
   "id": "better-focus",
   "metadata": {
    "id": "better-focus"
   },
   "outputs": [],
   "source": [
    "from sklearn.ensemble import RandomForestRegressor\n",
    "rf_model = RandomForestRegressor().fit(X_train.toarray(), y_train.astype('int'))"
   ]
  },
  {
   "cell_type": "code",
   "execution_count": null,
   "id": "scientific-brown",
   "metadata": {
    "id": "scientific-brown"
   },
   "outputs": [],
   "source": [
    "y_pred = rf_model.predict(X_test.toarray())"
   ]
  },
  {
   "cell_type": "code",
   "execution_count": null,
   "id": "suspended-listening",
   "metadata": {
    "id": "suspended-listening"
   },
   "outputs": [],
   "source": [
    "mean_squared_error(y_test, y_pred)"
   ]
  },
  {
   "cell_type": "code",
   "execution_count": 22,
   "id": "minor-girlfriend",
   "metadata": {
    "colab": {
     "base_uri": "https://localhost:8080/"
    },
    "id": "minor-girlfriend",
    "outputId": "defec11a-2bf9-4e0e-be34-a3c4fc82c45b"
   },
   "outputs": [
    {
     "name": "stdout",
     "output_type": "stream",
     "text": [
      "Requirement already satisfied: tensorflow_hub in /usr/local/lib/python3.7/dist-packages (0.12.0)\n",
      "Requirement already satisfied: numpy>=1.12.0 in /usr/local/lib/python3.7/dist-packages (from tensorflow_hub) (1.19.5)\n",
      "Requirement already satisfied: protobuf>=3.8.0 in /usr/local/lib/python3.7/dist-packages (from tensorflow_hub) (3.12.4)\n",
      "Requirement already satisfied: six>=1.9 in /usr/local/lib/python3.7/dist-packages (from protobuf>=3.8.0->tensorflow_hub) (1.15.0)\n",
      "Requirement already satisfied: setuptools in /usr/local/lib/python3.7/dist-packages (from protobuf>=3.8.0->tensorflow_hub) (56.1.0)\n"
     ]
    }
   ],
   "source": [
    "\n",
    "!pip install tensorflow_hub"
   ]
  },
  {
   "cell_type": "code",
   "execution_count": 23,
   "id": "McLqE7YAs52B",
   "metadata": {
    "id": "McLqE7YAs52B"
   },
   "outputs": [],
   "source": [
    "import tensorflow as tf\n",
    "import tensorflow_hub as hub"
   ]
  },
  {
   "cell_type": "code",
   "execution_count": 24,
   "id": "0IOXomaEs6_H",
   "metadata": {
    "id": "0IOXomaEs6_H"
   },
   "outputs": [],
   "source": [
    "\n",
    "model_link = \"https://tfhub.dev/google/tf2-preview/gnews-swivel-20dim/1\"\n",
    "hub_layer = hub.KerasLayer(model_link, output_shape=[20], input_shape=[], \n",
    "                           dtype=tf.string, trainable=True)"
   ]
  },
  {
   "cell_type": "code",
   "execution_count": 25,
   "id": "uQST-EnNs7zI",
   "metadata": {
    "colab": {
     "base_uri": "https://localhost:8080/"
    },
    "id": "uQST-EnNs7zI",
    "outputId": "06b56272-1158-4a65-a7a8-db14568d3e43"
   },
   "outputs": [
    {
     "name": "stdout",
     "output_type": "stream",
     "text": [
      "Model: \"sequential\"\n",
      "_________________________________________________________________\n",
      "Layer (type)                 Output Shape              Param #   \n",
      "=================================================================\n",
      "keras_layer (KerasLayer)     (None, 20)                400020    \n",
      "_________________________________________________________________\n",
      "dense (Dense)                (None, 128)               2688      \n",
      "_________________________________________________________________\n",
      "dropout (Dropout)            (None, 128)               0         \n",
      "_________________________________________________________________\n",
      "dense_1 (Dense)              (None, 64)                8256      \n",
      "_________________________________________________________________\n",
      "dropout_1 (Dropout)          (None, 64)                0         \n",
      "_________________________________________________________________\n",
      "dense_2 (Dense)              (None, 1)                 65        \n",
      "=================================================================\n",
      "Total params: 411,029\n",
      "Trainable params: 411,029\n",
      "Non-trainable params: 0\n",
      "_________________________________________________________________\n"
     ]
    }
   ],
   "source": [
    "model = tf.keras.Sequential()\n",
    "model.add(hub_layer)\n",
    "model.add(tf.keras.layers.Dense(128, activation='relu'))\n",
    "model.add(tf.keras.layers.Dropout(0.2))\n",
    "model.add(tf.keras.layers.Dense(64, activation='relu'))\n",
    "model.add(tf.keras.layers.Dropout(0.2))\n",
    "model.add(tf.keras.layers.Dense(1, activation='relu'))\n",
    "\n",
    "model.summary()"
   ]
  },
  {
   "cell_type": "code",
   "execution_count": 26,
   "id": "WH0B2AfUs85n",
   "metadata": {
    "id": "WH0B2AfUs85n"
   },
   "outputs": [],
   "source": [
    "model.compile(optimizer='adam',\n",
    "              loss=tf.losses.MeanSquaredError(),\n",
    "              metrics=['mae', 'mse', 'msle'])"
   ]
  },
  {
   "cell_type": "code",
   "execution_count": 27,
   "id": "fYRHQHWFs-DU",
   "metadata": {
    "colab": {
     "base_uri": "https://localhost:8080/"
    },
    "id": "fYRHQHWFs-DU",
    "outputId": "99599d22-ea4e-4df2-b3fd-6b3433271bcd"
   },
   "outputs": [
    {
     "name": "stdout",
     "output_type": "stream",
     "text": [
      "Epoch 1/50\n",
      "20/20 [==============================] - 1s 22ms/step - loss: 7240.6523 - mae: 80.3475 - mse: 7240.6523 - msle: 8.1974\n",
      "Epoch 2/50\n",
      "20/20 [==============================] - 0s 24ms/step - loss: 3702.2881 - mae: 53.1668 - mse: 3702.2881 - msle: 1.3346\n",
      "Epoch 3/50\n",
      "20/20 [==============================] - 0s 24ms/step - loss: 1555.5347 - mae: 29.6674 - mse: 1555.5347 - msle: 0.2423\n",
      "Epoch 4/50\n",
      "20/20 [==============================] - 0s 22ms/step - loss: 1374.3898 - mae: 28.0389 - mse: 1374.3898 - msle: 0.2300\n",
      "Epoch 5/50\n",
      "20/20 [==============================] - 0s 21ms/step - loss: 1277.0636 - mae: 26.7696 - mse: 1277.0636 - msle: 0.1914\n",
      "Epoch 6/50\n",
      "20/20 [==============================] - 0s 22ms/step - loss: 1197.3607 - mae: 25.8667 - mse: 1197.3607 - msle: 0.1743\n",
      "Epoch 7/50\n",
      "20/20 [==============================] - 0s 22ms/step - loss: 1102.7515 - mae: 24.7947 - mse: 1102.7515 - msle: 0.1546\n",
      "Epoch 8/50\n",
      "20/20 [==============================] - 0s 23ms/step - loss: 1028.2662 - mae: 23.9027 - mse: 1028.2662 - msle: 0.1411\n",
      "Epoch 9/50\n",
      "20/20 [==============================] - 0s 22ms/step - loss: 985.2870 - mae: 23.4968 - mse: 985.2870 - msle: 0.1344\n",
      "Epoch 10/50\n",
      "20/20 [==============================] - 0s 23ms/step - loss: 941.6911 - mae: 22.8330 - mse: 941.6911 - msle: 0.1296\n",
      "Epoch 11/50\n",
      "20/20 [==============================] - 0s 22ms/step - loss: 924.9478 - mae: 22.6559 - mse: 924.9478 - msle: 0.1262\n",
      "Epoch 12/50\n",
      "20/20 [==============================] - 0s 23ms/step - loss: 869.3482 - mae: 21.9942 - mse: 869.3482 - msle: 0.1190\n",
      "Epoch 13/50\n",
      "20/20 [==============================] - 0s 23ms/step - loss: 823.4442 - mae: 21.3050 - mse: 823.4442 - msle: 0.1128\n",
      "Epoch 14/50\n",
      "20/20 [==============================] - 0s 22ms/step - loss: 799.2530 - mae: 21.0337 - mse: 799.2530 - msle: 0.1101\n",
      "Epoch 15/50\n",
      "20/20 [==============================] - 0s 22ms/step - loss: 769.2548 - mae: 20.7093 - mse: 769.2548 - msle: 0.1063\n",
      "Epoch 16/50\n",
      "20/20 [==============================] - 0s 22ms/step - loss: 739.8320 - mae: 20.3460 - mse: 739.8320 - msle: 0.1019\n",
      "Epoch 17/50\n",
      "20/20 [==============================] - 0s 23ms/step - loss: 699.2003 - mae: 19.7489 - mse: 699.2003 - msle: 0.0965\n",
      "Epoch 18/50\n",
      "20/20 [==============================] - 0s 22ms/step - loss: 687.5364 - mae: 19.5795 - mse: 687.5364 - msle: 0.0951\n",
      "Epoch 19/50\n",
      "20/20 [==============================] - 0s 23ms/step - loss: 662.6351 - mae: 19.2539 - mse: 662.6351 - msle: 0.0921\n",
      "Epoch 20/50\n",
      "20/20 [==============================] - 1s 25ms/step - loss: 632.6200 - mae: 18.5555 - mse: 632.6200 - msle: 0.0871\n",
      "Epoch 21/50\n",
      "20/20 [==============================] - 0s 23ms/step - loss: 600.0870 - mae: 18.2223 - mse: 600.0870 - msle: 0.0836\n",
      "Epoch 22/50\n",
      "20/20 [==============================] - 0s 24ms/step - loss: 577.7868 - mae: 17.8033 - mse: 577.7868 - msle: 0.0798\n",
      "Epoch 23/50\n",
      "20/20 [==============================] - 0s 22ms/step - loss: 554.6890 - mae: 17.6288 - mse: 554.6890 - msle: 0.0779\n",
      "Epoch 24/50\n",
      "20/20 [==============================] - 0s 24ms/step - loss: 536.5589 - mae: 17.1464 - mse: 536.5589 - msle: 0.0735\n",
      "Epoch 25/50\n",
      "20/20 [==============================] - 1s 27ms/step - loss: 502.4937 - mae: 16.7643 - mse: 502.4937 - msle: 0.0709\n",
      "Epoch 26/50\n",
      "20/20 [==============================] - 1s 26ms/step - loss: 480.4580 - mae: 16.3640 - mse: 480.4580 - msle: 0.0682\n",
      "Epoch 27/50\n",
      "20/20 [==============================] - 0s 22ms/step - loss: 468.1621 - mae: 16.1260 - mse: 468.1621 - msle: 0.0663\n",
      "Epoch 28/50\n",
      "20/20 [==============================] - 0s 22ms/step - loss: 441.3531 - mae: 15.7793 - mse: 441.3531 - msle: 0.0623\n",
      "Epoch 29/50\n",
      "20/20 [==============================] - 0s 22ms/step - loss: 427.0865 - mae: 15.3626 - mse: 427.0865 - msle: 0.0600\n",
      "Epoch 30/50\n",
      "20/20 [==============================] - 0s 24ms/step - loss: 401.4554 - mae: 15.0606 - mse: 401.4554 - msle: 0.0577\n",
      "Epoch 31/50\n",
      "20/20 [==============================] - 0s 23ms/step - loss: 394.4135 - mae: 14.9099 - mse: 394.4135 - msle: 0.0555\n",
      "Epoch 32/50\n",
      "20/20 [==============================] - 0s 23ms/step - loss: 385.6486 - mae: 14.6607 - mse: 385.6486 - msle: 0.0550\n",
      "Epoch 33/50\n",
      "20/20 [==============================] - 0s 24ms/step - loss: 358.4080 - mae: 14.2615 - mse: 358.4080 - msle: 0.0510\n",
      "Epoch 34/50\n",
      "20/20 [==============================] - 0s 24ms/step - loss: 356.3641 - mae: 14.1461 - mse: 356.3641 - msle: 0.0511\n",
      "Epoch 35/50\n",
      "20/20 [==============================] - 0s 22ms/step - loss: 345.5729 - mae: 13.9064 - mse: 345.5729 - msle: 0.0491\n",
      "Epoch 36/50\n",
      "20/20 [==============================] - 0s 23ms/step - loss: 322.9323 - mae: 13.5218 - mse: 322.9323 - msle: 0.0468\n",
      "Epoch 37/50\n",
      "20/20 [==============================] - 0s 22ms/step - loss: 320.2650 - mae: 13.3611 - mse: 320.2650 - msle: 0.0461\n",
      "Epoch 38/50\n",
      "20/20 [==============================] - 0s 24ms/step - loss: 308.9649 - mae: 13.2569 - mse: 308.9649 - msle: 0.0446\n",
      "Epoch 39/50\n",
      "20/20 [==============================] - 0s 22ms/step - loss: 298.6838 - mae: 13.0329 - mse: 298.6838 - msle: 0.0431\n",
      "Epoch 40/50\n",
      "20/20 [==============================] - 0s 22ms/step - loss: 291.9163 - mae: 12.9092 - mse: 291.9163 - msle: 0.0419\n",
      "Epoch 41/50\n",
      "20/20 [==============================] - 0s 23ms/step - loss: 280.8476 - mae: 12.5904 - mse: 280.8476 - msle: 0.0406\n",
      "Epoch 42/50\n",
      "20/20 [==============================] - 0s 23ms/step - loss: 281.3018 - mae: 12.6149 - mse: 281.3018 - msle: 0.0406\n",
      "Epoch 43/50\n",
      "20/20 [==============================] - 0s 23ms/step - loss: 263.6177 - mae: 12.1865 - mse: 263.6177 - msle: 0.0380\n",
      "Epoch 44/50\n",
      "20/20 [==============================] - 0s 22ms/step - loss: 259.3366 - mae: 12.2636 - mse: 259.3366 - msle: 0.0377\n",
      "Epoch 45/50\n",
      "20/20 [==============================] - 0s 23ms/step - loss: 256.4049 - mae: 12.2074 - mse: 256.4049 - msle: 0.0377\n",
      "Epoch 46/50\n",
      "20/20 [==============================] - 0s 22ms/step - loss: 246.5629 - mae: 11.8048 - mse: 246.5629 - msle: 0.0360\n",
      "Epoch 47/50\n",
      "20/20 [==============================] - 0s 23ms/step - loss: 236.5076 - mae: 11.5655 - mse: 236.5076 - msle: 0.0344\n",
      "Epoch 48/50\n",
      "20/20 [==============================] - 0s 22ms/step - loss: 230.7068 - mae: 11.4512 - mse: 230.7068 - msle: 0.0340\n",
      "Epoch 49/50\n",
      "20/20 [==============================] - 0s 22ms/step - loss: 233.8542 - mae: 11.5117 - mse: 233.8542 - msle: 0.0343\n",
      "Epoch 50/50\n",
      "20/20 [==============================] - 0s 23ms/step - loss: 231.2114 - mae: 11.6152 - mse: 231.2114 - msle: 0.0337\n"
     ]
    }
   ],
   "source": [
    "history = model.fit(df['Job Description'], df['avg_salary'],\n",
    "                    epochs=50,\n",
    "                    batch_size=256,\n",
    "                    verbose=1)"
   ]
  },
  {
   "cell_type": "code",
   "execution_count": 28,
   "id": "chiRaUbUtz8d",
   "metadata": {
    "colab": {
     "base_uri": "https://localhost:8080/"
    },
    "id": "chiRaUbUtz8d",
    "outputId": "e14d2de3-d325-47c3-e50b-deec1f539014"
   },
   "outputs": [
    {
     "name": "stdout",
     "output_type": "stream",
     "text": [
      "WARNING:tensorflow:From <ipython-input-28-bdb3352f611a>:1: experimental_run_functions_eagerly (from tensorflow.python.eager.def_function) is deprecated and will be removed in a future version.\n",
      "Instructions for updating:\n",
      "Use `tf.config.run_functions_eagerly` instead of the experimental version.\n"
     ]
    },
    {
     "name": "stderr",
     "output_type": "stream",
     "text": [
      "WARNING:tensorflow:From <ipython-input-28-bdb3352f611a>:1: experimental_run_functions_eagerly (from tensorflow.python.eager.def_function) is deprecated and will be removed in a future version.\n",
      "Instructions for updating:\n",
      "Use `tf.config.run_functions_eagerly` instead of the experimental version.\n"
     ]
    }
   ],
   "source": [
    "tf.config.experimental_run_functions_eagerly(True)"
   ]
  },
  {
   "cell_type": "code",
   "execution_count": 29,
   "id": "3dg-qwzTvBgp",
   "metadata": {
    "colab": {
     "base_uri": "https://localhost:8080/"
    },
    "id": "3dg-qwzTvBgp",
    "outputId": "08d8ec11-9776-4920-aa89-d3698383d9f4"
   },
   "outputs": [
    {
     "name": "stderr",
     "output_type": "stream",
     "text": [
      "/usr/local/lib/python3.7/dist-packages/tensorflow/python/data/ops/dataset_ops.py:3704: UserWarning: Even though the `tf.config.experimental_run_functions_eagerly` option is set, this option does not apply to tf.data functions. To force eager execution of tf.data functions, please use `tf.data.experimental.enable.debug_mode()`.\n",
      "  \"Even though the `tf.config.experimental_run_functions_eagerly` \"\n"
     ]
    },
    {
     "data": {
      "text/plain": [
       "array([[111.76984]], dtype=float32)"
      ]
     },
     "execution_count": 29,
     "metadata": {
      "tags": []
     },
     "output_type": "execute_result"
    }
   ],
   "source": [
    "model.predict([\"\"\"As a Data Scientist Architect you will be applying new and innovative methods to address some of our most important intelligence problems \\\n",
    "What You'll Be Doing:\\\n",
    "Knowledge and experience in designing and implementing AI apps and agents that use the Microsoft Azure Cognitive Services, Azure Bot Service, Azure Cognitive Search, and data storage options \\\n",
    "Analyzing requirements for AI solutions Experience with NoSQL databases Experience with applying Data Science techniques to overhead imagery (computer vision, object detection \\\n",
    "Ability to work autonomously and collaboratively as part of a team to both teach and learn every day\"\"\"])"
   ]
  },
  {
   "cell_type": "code",
   "execution_count": 29,
   "id": "8sgjTU5FxvHA",
   "metadata": {
    "id": "8sgjTU5FxvHA"
   },
   "outputs": [],
   "source": []
  },
  {
   "cell_type": "code",
   "execution_count": 30,
   "id": "QG4b8Bq20cg_",
   "metadata": {
    "colab": {
     "base_uri": "https://localhost:8080/"
    },
    "id": "QG4b8Bq20cg_",
    "outputId": "dbd880ad-dcfa-43bf-996f-d2cd86190773"
   },
   "outputs": [
    {
     "name": "stderr",
     "output_type": "stream",
     "text": [
      "/usr/local/lib/python3.7/dist-packages/tensorflow/python/data/ops/dataset_ops.py:3704: UserWarning: Even though the `tf.config.experimental_run_functions_eagerly` option is set, this option does not apply to tf.data functions. To force eager execution of tf.data functions, please use `tf.data.experimental.enable.debug_mode()`.\n",
      "  \"Even though the `tf.config.experimental_run_functions_eagerly` \"\n"
     ]
    },
    {
     "data": {
      "text/plain": [
       "array([[95.61134]], dtype=float32)"
      ]
     },
     "execution_count": 30,
     "metadata": {
      "tags": []
     },
     "output_type": "execute_result"
    }
   ],
   "source": [
    "model.predict([\"\"\"We are looking for a full time iOS Software Engineer to join our team in Olathe, KS. In this role, you’ll be responsible for architecting and developing complex software utilized by the suite of Garmin mobile applications. Responsibilities include:\n",
    "Develop software using Swift and Objective-C\n",
    "Utilize tools in the software development process such as Git, Gerrit, Bitbucket, Jira, Confluence, Xcode, and Jenkins\n",
    "Create and implement designs for software components within a larger project\"\"\"])"
   ]
  },
  {
   "cell_type": "code",
   "execution_count": null,
   "id": "5DeboXCA0fum",
   "metadata": {
    "id": "5DeboXCA0fum"
   },
   "outputs": [],
   "source": []
  }
 ],
 "metadata": {
  "colab": {
   "include_colab_link": true,
   "name": "Model Building-Job Description.ipynb",
   "provenance": []
  },
  "kernelspec": {
   "display_name": "Python 3",
   "language": "python",
   "name": "python3"
  },
  "language_info": {
   "codemirror_mode": {
    "name": "ipython",
    "version": 3
   },
   "file_extension": ".py",
   "mimetype": "text/x-python",
   "name": "python",
   "nbconvert_exporter": "python",
   "pygments_lexer": "ipython3",
   "version": "3.8.8"
  }
 },
 "nbformat": 4,
 "nbformat_minor": 5
}
